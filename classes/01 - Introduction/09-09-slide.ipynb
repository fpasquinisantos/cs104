{
  "cells": [
    {
      "cell_type": "raw",
      "metadata": {},
      "source": [
        "---\n",
        "execute:\n",
        "  echo: true\n",
        "format:\n",
        "  revealjs:\n",
        "    menu: false\n",
        "    slide-level: 2\n",
        "    navigation-mode: linear\n",
        "    transition: slide\n",
        "    scrollable: true\n",
        "    simplemenu:\n",
        "        barhtml:\n",
        "            header: \"<div class='menubar'><ul class='menu'></ul></div>\"\n",
        "        scale: 0.67\n",
        "revealjs-plugins:\n",
        "    - simplemenu\n",
        "title: \"09-09-SL-Input-Output\"\n",
        "---"
      ],
      "id": "a16f061f"
    },
    {
      "cell_type": "markdown",
      "metadata": {},
      "source": [
        "# Retrieval\n",
        "\n",
        "# Input and Output {data-stack-name=\"input and output\"}\n",
        "\n",
        "##\n",
        "\n",
        "-   Programming is nothing without the design of an **interface**!\n",
        "    -   I have to be able to **input** data in the program, and\n",
        "    -   I have to be able to get results (**output**) from the program.\n",
        "\n",
        "\n",
        "::: {.content-visible when-format=\"revealjs\"}\n",
        "\n",
        "![](/img/vending-machine.gif){align=\"center\"}\n",
        "\n",
        ":::\n",
        "\n",
        "## Graphical input/output\n",
        "\n",
        "-   Also called Graphical User Interface (GUI) - we'll study it in Unit 10\n",
        "-   Kind of mimics the way we use mechanical input and output\n",
        "-   Traditionally, [WIMP](https://www.interaction-design.org/literature/book/the-glossary-of-human-computer-interaction/wimp) (Windows, Icons, Menus and Pointers)\n",
        "\n",
        "![](/img/ui.jpg){width=30%}\n",
        "\n",
        "## Text input/output\n",
        "\n",
        "-   Even simpler, however, it is a good start for programming!"
      ],
      "id": "fed4476b"
    },
    {
      "cell_type": "code",
      "metadata": {},
      "source": [
        "#| echo: true\n",
        "#| eval: false\n",
        "name = input(\"Please enter your name:\")\n",
        "reverse = name[::-1]\n",
        "print(\"Your name in reverse is\", reverse)"
      ],
      "id": "baec47d1",
      "execution_count": null,
      "outputs": []
    },
    {
      "cell_type": "markdown",
      "metadata": {},
      "source": [
        "The command-line interface will ask for input from our keyboard, and then:\n",
        "\n",
        "![](/img/ioexample.png){width=\"40%\"}\n",
        "\n",
        "# Python text output: `print()` {data-stack-name='print'}\n",
        "\n",
        "##\n",
        "\n",
        "-   Put what you want to print between the parentheses: `print(\"Hello World\")`\n",
        "-   If you want to jump to a new line, use `\\n`: `print(\"Hello\\nWorld\")`\n",
        "-   You can also pass multiple arguments by separating them with commas: `print(\"x has the value:\", x, \"\\nand y has the value:\", y)`\n",
        "\n",
        "# Python text input: `input()` {data-stack-name='input'}\n",
        "\n",
        "##\n",
        "\n",
        "-   The command waits until the user types some text in the command-line interface and finishes with ENTER\n",
        "-   The term `input()` \"turns\" into the text entered, and is **ALWAYS** an object the type `string`!\n",
        "-   Thus, it needs to be saved into a variable: `x = input()`\n",
        "    -   After the user types \"Hi\", for example, it is as if: `x = \"Hi\"`\n",
        "-   You can customize an input message by passing a string:"
      ],
      "id": "cf35ba4b"
    },
    {
      "cell_type": "code",
      "metadata": {},
      "source": [
        "#| echo: true\n",
        "#| eval: false\n",
        "x = input(\"Please enter your name: \")"
      ],
      "id": "4ef7da06",
      "execution_count": null,
      "outputs": []
    },
    {
      "cell_type": "markdown",
      "metadata": {},
      "source": [
        "## Input of numeric values\n",
        "\n",
        "-   Now, suppose we want to calculate the sum of two numbers:"
      ],
      "id": "6967a083"
    },
    {
      "cell_type": "code",
      "metadata": {},
      "source": [
        "#| echo: true\n",
        "#| eval: false\n",
        "x = input(\"Please enter first number: \")\n",
        "y = input(\"Please enter second number: \")\n",
        "z = x + y\n",
        "print(\"The sum is\", z)"
      ],
      "id": "0469146f",
      "execution_count": null,
      "outputs": []
    },
    {
      "cell_type": "markdown",
      "metadata": {},
      "source": [
        "What happened???\n",
        "\n",
        "::: {.content-visible when-format=\"revealjs\"}\n",
        "\n",
        "![](/img/wellwellwell.png)\n",
        "\n",
        ":::\n",
        "\n",
        "# Converting string to number types {data-stack-name=\"converting numbers\"}\n",
        "\n",
        "##\n",
        "\n",
        "-   You can convert a string to a number using the methods `int()` and `float()`\n",
        "    -   The string that goes inside the parentheses (which we call the \"argument\" of the method) will be turned to an integer/float"
      ],
      "id": "0c08c302"
    },
    {
      "cell_type": "code",
      "metadata": {},
      "source": [
        "#| echo: true\n",
        "#| eval: false\n",
        "xstring = input(\"Please enter your age: \")\n",
        "x = int(xstring)\n",
        "print(\"Your age is \", x)"
      ],
      "id": "c0e63f82",
      "execution_count": null,
      "outputs": []
    },
    {
      "cell_type": "markdown",
      "metadata": {},
      "source": [
        "-   Just make things shorter by chaining one method into another!"
      ],
      "id": "f2491984"
    },
    {
      "cell_type": "code",
      "metadata": {},
      "source": [
        "#| echo: true\n",
        "#| eval: false\n",
        "x = int(input(\"Please enter your age: \"))\n",
        "print(\"Your age is \", x)"
      ],
      "id": "8e5af853",
      "execution_count": null,
      "outputs": []
    }
  ],
  "metadata": {
    "kernelspec": {
      "display_name": "Python 3",
      "language": "python",
      "name": "python3"
    }
  },
  "nbformat": 4,
  "nbformat_minor": 5
}