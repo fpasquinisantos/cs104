{
  "cells": [
    {
      "cell_type": "raw",
      "metadata": {},
      "source": [
        "---\n",
        "execute:\n",
        "  echo: true\n",
        "format:\n",
        "  revealjs:\n",
        "    menu: false\n",
        "    slide-level: 2\n",
        "    navigation-mode: linear\n",
        "    transition: slide\n",
        "    scrollable: true\n",
        "    simplemenu:\n",
        "        barhtml:\n",
        "            header: \"<div class='menubar'><ul class='menu'></ul></div>\"\n",
        "        scale: 0.67\n",
        "revealjs-plugins:\n",
        "    - simplemenu\n",
        "title: \"09-06-SL-Variables\"\n",
        "---"
      ],
      "id": "8459e276"
    },
    {
      "cell_type": "markdown",
      "metadata": {},
      "source": [
        "::: {.smaller}\n",
        "\n",
        "> Go and work\\\n",
        "> Honor the One who is working on you.\\\n",
        "> Do so by making beautiful things,\\\n",
        "> Be serving in beautiful ways,\\\n",
        "> By speaking up for the weak whose beauty is being maligned,\\\n",
        "> By filling this city with the aroma of good and beautiful work\n",
        ">\n",
        "> Reflect the beautiful work of your heavenly Father,\\\n",
        "> Nourished now by the grace and mercy of Christ,\\\n",
        "> In the power of the Holy Spirit.\n",
        ">\n",
        "> God has already accomplished the great work.\\\n",
        "> God goes before you and behind you.\\\n",
        "> God works at your side.\n",
        ">\n",
        "> (Matthew Kaemingk & Cory B. Willson, *Work and Worship*, p. 140)\n",
        "\n",
        "\n",
        "\n",
        ":::\n",
        "\n",
        "# Retrieval\n",
        "\n",
        "- What are programs? What are computations? What are algorithms?\n",
        "\n",
        "\\TextField[multiline=true, width=\\linewidth, height=2.5em]{}\n",
        "\n",
        "- What is code?\n",
        "\n",
        "\\TextField[multiline=true, width=\\linewidth, height=2.5em]{}\n",
        "\n",
        "- What is a programming language?\n",
        "\n",
        "\\TextField[multiline=true, width=\\linewidth, height=2.5em]{}\n",
        "\n",
        "- Why it can be hard to use a programming language?\n",
        "\n",
        "\\TextField[multiline=true, width=\\linewidth, height=2.5em]{}\n",
        "\n",
        "# Objects and Variables {data-stack-name=\"objects and variables\"}\n",
        "\n",
        "## Object\n",
        "\n",
        "-   Python syntax specifies some ways to represent different types of data. A data representation in Python is called an \"object\".\n",
        "\n",
        "| Type                            | Object type in Python | Example          |\n",
        "|---------------------------------|-----------------------|------------------|\n",
        "| Integer number                  | `int`                 | `123`            |\n",
        "| Decimal number (floating point) | `float`               | `3.14`           |\n",
        "| Logic value                     | `bool`                | `True`, `False`  |\n",
        "| Text                            | `string`              | `\"Hello World!\"` |\n",
        "\n",
        "## Variables\n",
        "\n",
        "-   Variables are names we set to refer to objects.\n",
        "    -   A not-so-good metaphor: variables are containers for objects\n",
        "    -   A better metaphor: objects are houses, variables are addresses of these houses\n"
      ],
      "id": "2dd54c0f"
    },
    {
      "cell_type": "code",
      "metadata": {},
      "source": [
        "x = 123  # a variable x that contains the integer value 123\n",
        "x = x + 1  # x is updated with the value of x + 1, becoming 124...\n",
        "hello = \"Hello World!\"  # a variable that contains the string \"Hello World!\"\n",
        "is_done = True  # a variable is_done with the logic value True"
      ],
      "id": "3bcbeead",
      "execution_count": null,
      "outputs": []
    },
    {
      "cell_type": "markdown",
      "metadata": {},
      "source": [
        "## Objects x variables\n",
        "\n",
        "-   It is **very important** to differentiate!\n",
        "-   Which of the following are variables and which are objects?\n",
        "\n",
        "```         \n",
        "\"hello\"\n",
        "\n",
        "hello\n",
        "\n",
        "132\n",
        "\n",
        "var_1\n",
        "\n",
        "truev\n",
        "\n",
        "True\n",
        "```\n",
        "\n",
        "## Variable naming conventions in Python\n",
        "\n",
        "-   They MUST start with a letter or with \\_ (underline)\n",
        "-   They are case sensitive ('C' is different from 'c')\n",
        "-   They can't contain: `{ ( + - * / \\ ; . , ?`\n",
        "-   They can't have names of words already reserved for other purposes in Python:\n",
        "\n",
        "![](/img/reserved.png){width=80%}\n",
        "\n",
        "--- \n",
        "\n",
        "-   What happens if?\n"
      ],
      "id": "438e7883"
    },
    {
      "cell_type": "code",
      "metadata": {},
      "source": [
        "#| error: true\n",
        "#| eval: false\n",
        "True = 123"
      ],
      "id": "219f7f96",
      "execution_count": null,
      "outputs": []
    },
    {
      "cell_type": "code",
      "metadata": {},
      "source": [
        "#| error: true\n",
        "#| eval: false\n",
        "\"Hello\" = world"
      ],
      "id": "22d069b0",
      "execution_count": null,
      "outputs": []
    },
    {
      "cell_type": "code",
      "metadata": {},
      "source": [
        "#| error: true\n",
        "#| eval: false\n",
        "1stcar = 2000"
      ],
      "id": "4dda1dd2",
      "execution_count": null,
      "outputs": []
    },
    {
      "cell_type": "markdown",
      "metadata": {},
      "source": [
        "# Assignments {data-stack-name=\"assignments\"}\n",
        "\n",
        "##\n",
        "\n",
        "When Python sees the operator `=` it does the following:\n",
        "\n",
        "1.  Evaluates the **right-hand side** (rhs)\n",
        "\n",
        "    -   The right of the assignment operator can be:\n",
        "\n",
        "        -   Objects: `age = 21`\n",
        "\n",
        "        -   Variables: `my_cost = your_cost`\n",
        "\n",
        "        -   Expressions: `x = (x + 1) * y`\n",
        "\n",
        "2.  Assigns the resulting object to the variable on the **left-hand side** (lhs)\n",
        "\n",
        "    -   Only a **single variable** is allowed on the left side!\n",
        "\n",
        "    -   For example, `x + 1 = 2` is WRONG SYNTAX!\n",
        "\n",
        "## Compound assignment operators {data-name=\"compound assignment\"}\n",
        "\n",
        "-   Python and other languages make available a shortcut for performing operations in variables and updating them.\n",
        "-   For example,\n"
      ],
      "id": "da10c13c"
    },
    {
      "cell_type": "code",
      "metadata": {},
      "source": [
        "#| echo: true\n",
        "#| eval: false\n",
        "w = 5\n",
        "w += 1\n",
        "print(w)"
      ],
      "id": "41c2d9aa",
      "execution_count": null,
      "outputs": []
    },
    {
      "cell_type": "markdown",
      "metadata": {},
      "source": [
        "is the same as:\n"
      ],
      "id": "7ab1acfe"
    },
    {
      "cell_type": "code",
      "metadata": {},
      "source": [
        "#| echo: true\n",
        "#| eval: false\n",
        "w = 5\n",
        "w = w + 1\n",
        "print(w)"
      ],
      "id": "80a54dfd",
      "execution_count": null,
      "outputs": []
    },
    {
      "cell_type": "markdown",
      "metadata": {},
      "source": [
        "---\n",
        "\n",
        "You can use compound assignment with all operators!\n"
      ],
      "id": "130b050b"
    },
    {
      "cell_type": "code",
      "metadata": {},
      "source": [
        "#| echo: true\n",
        "#| eval: false\n",
        "y += 1 # add then assign value\n",
        "y -= 1 # subtract then assign value\n",
        "y *= 2 # multiply then assign value\n",
        "y /= 3 # divide then assign value\n",
        "y // = 5 # floor divide then assign value\n",
        "y **= 2 # increase to the power of then assign value\n",
        "y %= 3 # return remainder then assign value"
      ],
      "id": "eb9d9462",
      "execution_count": null,
      "outputs": []
    },
    {
      "cell_type": "markdown",
      "metadata": {},
      "source": [
        "---\n",
        "\n",
        "Example: what will this expression do?\n"
      ],
      "id": "6e639f28"
    },
    {
      "cell_type": "code",
      "metadata": {},
      "source": [
        "#| echo: true\n",
        "#| eval: false\n",
        "x *= y - 2"
      ],
      "id": "07bee1a4",
      "execution_count": null,
      "outputs": []
    },
    {
      "cell_type": "markdown",
      "metadata": {},
      "source": [
        "# Converting basic objects {data-stack-name=\"conversion\"}\n",
        "\n",
        "#### **1. Converting to Integer**\n",
        "- **From Float:** `int(3.14)` results in `3`\n",
        "- **From String:** `int(\"42\")` results in `42`\n",
        "- **Invalid Conversion:** `int(\"hello\")` raises a `ValueError`\n",
        "\n",
        "#### **2. Converting to Float**\n",
        "- **From Integer:** `float(7)` results in `7.0`\n",
        "- **From String:** `float(\"3.14\")` results in `3.14`\n",
        "- **Invalid Conversion:** `float(\"abc\")` raises a `ValueError`\n",
        "\n",
        "#### **3. Converting to String**\n",
        "- **From Integer:** `str(123)` results in `\"123\"`\n",
        "- **From Float:** `str(9.99)` results in `\"9.99\"`\n",
        "\n",
        "## Example Code\n",
        "\n",
        "```python\n",
        "# Convert float to integer\n",
        "num = int(5.7)  # 5\n",
        "\n",
        "# Convert integer to string\n",
        "text = str(123)  # \"123\"\n",
        "\n",
        "# Convert string to float\n",
        "pi = float(\"3.14159\")  # 3.14159\n",
        "```\n"
      ],
      "id": "7bfa00ac"
    }
  ],
  "metadata": {
    "kernelspec": {
      "display_name": "Python 3",
      "language": "python",
      "name": "python3"
    }
  },
  "nbformat": 4,
  "nbformat_minor": 5
}