{
  "cells": [
    {
      "cell_type": "raw",
      "metadata": {},
      "source": [
        "---\n",
        "execute:\n",
        "  echo: true\n",
        "format:\n",
        "  revealjs:\n",
        "    menu: false\n",
        "    slide-level: 2\n",
        "    navigation-mode: linear\n",
        "    transition: slide\n",
        "    scrollable: true\n",
        "    simplemenu:\n",
        "        barhtml:\n",
        "            header: \"<div class='menubar'><ul class='menu'></ul></div>\"\n",
        "        scale: 0.67\n",
        "revealjs-plugins:\n",
        "    - simplemenu\n",
        "title: \"09-11-SL-Math\"\n",
        "---"
      ],
      "id": "e5cec59b"
    },
    {
      "cell_type": "markdown",
      "metadata": {},
      "source": [
        "# Retrieval\n",
        "\n",
        "# Operators {data-stack-name=\"operators\"}\n",
        "\n",
        "##\n",
        "\n",
        "| Operation                       | Operator |  Example  | Evaluates to |\n",
        "|---------------------------------|:--------:|:---------:|:------------:|\n",
        "| Addition                        |   `+`    |  `2 + 2`  |     `4`      |\n",
        "| Subtraction                     |   `-`    |  `4 - 1`  |     `3`      |\n",
        "| Multiplication                  |   `*`    | `1.5 * 2` |    `3.0`     |\n",
        "| Division                        |   `/`    |  `5 / 2`  |    `2.5`     |\n",
        "| Floor Division                  |   `//`    |  `5 // 2`  |     `2`      |\n",
        "| Modulus (remainder of division) |   `%`    |  `5 % 2`  |     `1`      |\n",
        "| Exponent                        |   `**`   |  `3**3`   |     `27`     |\n",
        "\n",
        "## Resulting types\n",
        "\n",
        "-   If any of the operands is a float, result will be a float. Otherwise (both are integer), result is an integer.\n",
        "\n",
        "-   However, there is an exception: result of a **division** (not floor division) is ***always*** a float. Careful with that! (why? we'll see in a moment)\n",
        "\n",
        "## Operator precedence\n",
        "\n",
        "-   Always be careful with expressions using more than one operator! For example:"
      ],
      "id": "c7784e43"
    },
    {
      "cell_type": "code",
      "metadata": {},
      "source": [
        "#| echo: true\n",
        "#| eval: false\n",
        "a = 3\n",
        "b = 6\n",
        "c = a + b * 2\n",
        "print(c)"
      ],
      "id": "9fc602cd",
      "execution_count": null,
      "outputs": []
    },
    {
      "cell_type": "markdown",
      "metadata": {},
      "source": [
        "-   This evaluates as $a + (b \\times 2) = 3 + (6 * 2) = 3 + 12 = 15$\n",
        "\n",
        "Python operator **precedence order**:\n",
        "\n",
        "1.  Parentheses: `()`\n",
        "2.  Exponents: `**`\n",
        "3.  Multiplication, divisions and modulus: `* / // %`\n",
        "4.  Addition and subtraction: `+ -`\n",
        "5.  Comparisons: `<= < >= > == != is` (next week)\n",
        "6.  Boolean `not` (next week)\n",
        "7.  Boolean `and` (next week)\n",
        "8.  Boolean `or` (next week)\n",
        "\n",
        "## Operators in strings\n",
        "\n",
        "-   Python also permits using SOME operators with strings. In a metaphorical way...\n",
        "\n",
        "::: {.smaller}\n",
        "\n",
        "| String Operation | Metaphor       | Operator |         Example         | Evaluates to  |\n",
        "|---------------|---------------|:-------------:|:-------------:|:-------------:|\n",
        "| Concatenation    | Addition       |   `+`    | `\"Hey\" + \" \" + \"apple\"` | `\"Hey apple\"` |\n",
        "| Repetition       | Multiplication |   `*`    |       `\"na\" * 4`        | `\"nananana\"`  |\n",
        "\n",
        ":::\n",
        "\n",
        "-   Other operators are not supported. Multiplication of a string with another string is also not supported. Both wouldn't make so much sense...\n",
        "\n",
        "## Evaluating operations in strings\n",
        "\n",
        "It is also possible to evaluate an expression coded as a string. For example:"
      ],
      "id": "4200b7b8"
    },
    {
      "cell_type": "code",
      "metadata": {},
      "source": [
        "#| echo: true\n",
        "expression = \"2 * (4 + 6) / 3 - 5\"\n",
        "result = eval(expression)\n",
        "print(result)"
      ],
      "id": "1e6c6d5a",
      "execution_count": null,
      "outputs": []
    },
    {
      "cell_type": "markdown",
      "metadata": {},
      "source": [
        "# Math module {data-stack-name=\"math module\"}\n",
        "\n",
        "##\n",
        "\n",
        "For other mathematical operations, you can import Python's math module. Two ways to do that:\n",
        "\n",
        "::: columns\n",
        "::: {.column width=\"50%\"}\n",
        "-   Import the whole module and use as needed: need to use the module name followed by a dot (.) before using a function or variable from the module."
      ],
      "id": "4bc4bc10"
    },
    {
      "cell_type": "code",
      "metadata": {},
      "source": [
        "#| echo: true\n",
        "#| eval: false\n",
        "import math\n",
        "r = 3\n",
        "circumference = 2 * r * math.pi"
      ],
      "id": "60fe57d4",
      "execution_count": null,
      "outputs": []
    },
    {
      "cell_type": "markdown",
      "metadata": {},
      "source": [
        ":::\n",
        "\n",
        "::: {.column width=\"50%\"}\n",
        "-   Import only the functions and variables you will need. Then, no need to use the qualifier \"math.\""
      ],
      "id": "ca84a417"
    },
    {
      "cell_type": "code",
      "metadata": {},
      "source": [
        "#| echo: true\n",
        "#| eval: false\n",
        "from math import pi\n",
        "r = 3\n",
        "circumference = 2 * r * pi"
      ],
      "id": "1dedc1d7",
      "execution_count": null,
      "outputs": []
    },
    {
      "cell_type": "markdown",
      "metadata": {},
      "source": [
        ":::\n",
        ":::"
      ],
      "id": "ff2d4a2f"
    },
    {
      "cell_type": "raw",
      "metadata": {},
      "source": [
        "---\n",
        "\n",
        "Some functions in the math module (documentation [here](https://docs.python.org/3/library/math.html))\n",
        "\n",
        "| Method          | Explanation                   |\n",
        "|-----------------|-------------------------------|\n",
        "| math.cos(x)     | Returns cosine of x (rads)    |\n",
        "| math.sin(x)     | Returns sine of x (rads)      |\n",
        "| math.tan(x)     | Returns tangent of x (rads)   |\n",
        "| math.degrees(x) | Converts x radians to degrees |\n",
        "| math.radians(x) | Converts x degrees to rads    |\n",
        "| math.sqrt(x)    | Returns square root of x      |\n",
        "\n",
        "---"
      ],
      "id": "8a2e6f07"
    },
    {
      "cell_type": "markdown",
      "metadata": {},
      "source": [
        "-   You can also try to import all of the modules resources by using"
      ],
      "id": "3240b754"
    },
    {
      "cell_type": "code",
      "metadata": {},
      "source": [
        "#| echo: true\n",
        "#| eval: false\n",
        "from math import *"
      ],
      "id": "9f24646c",
      "execution_count": null,
      "outputs": []
    },
    {
      "cell_type": "markdown",
      "metadata": {},
      "source": [
        "-   However, this is not recommended due to **\"namespace pollution\"** (having lots of names referenced that are actually not used)\n",
        "\n",
        "# Overflow {data-stack-name=\"overflow\"}\n",
        "\n",
        "##\n",
        "\n",
        "-   Integers and floats are representations in the memory of your computer. Therefore, there are value limits to these numbers.\n",
        "    -   If we pass the limit, we arrive at an **overflow**, and the number is not computed correctly."
      ],
      "id": "cb97bfb5"
    },
    {
      "cell_type": "raw",
      "metadata": {},
      "source": [
        "---\n",
        "\n",
        "-   **For integers**, Python dynamically increases the use of memory as the number grows. Therefore, **in theory** there is a limit (computer memory will be full), but **in practice** this will almost never be the case.\n",
        "    -   For example, try `2147483647 ** 200`\n",
        "    -   This, however, is a Python feature. Other languages may not handle that.\n",
        "\n",
        "---"
      ],
      "id": "18bf48ea"
    },
    {
      "cell_type": "markdown",
      "metadata": {},
      "source": [
        "-   **For floats**, numbers are limited by the size of the mantissa and exponent.\n",
        "    -   Remember: for $1.2345 \\times 10^7$, $1.2345$ is the mantissa, and $7$ is the exponent\n",
        "    -   In Python, maximum is about 3 digits for the exponent and 17 digits for the mantissa\n",
        "    -   For example, try: `2.0**2000`\n",
        "        -   `OverflowError`\n",
        "\n",
        "::: {style=\"font-size: 70%;\"}\n",
        "More info at <https://docs.python.org/3/tutorial/floatingpoint.html>\n",
        ":::\n",
        "\n",
        "## So, be careful when mixing numeric types!\n",
        "\n",
        "-   On June 4, 1996 the European Space Agency launched the first Ariane 5 rocket:\n",
        "    -   the result of a decade of development, \\$8 billion\n",
        "    -   Exploded 40 seconds after lift-off with a \\$500 million satellite payload on board...\n",
        "-   Cause was a software error related to a **number type conversion and an overflow**\n",
        "\n",
        "::: {style=\"font-size: 70%;\"}\n",
        "<http://www-users.math.umn.edu/~arnold/disasters/ariane.html>\n",
        ":::\n"
      ],
      "id": "8bf35821"
    }
  ],
  "metadata": {
    "kernelspec": {
      "display_name": "Python 3",
      "language": "python",
      "name": "python3"
    }
  },
  "nbformat": 4,
  "nbformat_minor": 5
}